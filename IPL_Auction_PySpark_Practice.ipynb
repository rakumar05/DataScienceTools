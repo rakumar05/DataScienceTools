{
  "cells": [
    {
      "cell_type": "markdown",
      "metadata": {
        "id": "view-in-github",
        "colab_type": "text"
      },
      "source": [
        "<a href=\"https://colab.research.google.com/github/rakumar05/DataScienceTools/blob/master/IPL_Auction_PySpark_Practice.ipynb\" target=\"_parent\"><img src=\"https://colab.research.google.com/assets/colab-badge.svg\" alt=\"Open In Colab\"/></a>"
      ]
    },
    {
      "cell_type": "markdown",
      "id": "63c166aa",
      "metadata": {
        "id": "63c166aa"
      },
      "source": [
        "# Steps to be taken\n",
        "\n",
        "\n",
        "1.   Install required packages (pandasql)\n",
        "2.   Download dataset from Github\n",
        "3.   Explore data\n",
        "4.   Come up with questions\n",
        "5.   Try and answer them(Keep it simple at the beginning)"
      ]
    },
    {
      "cell_type": "code",
      "execution_count": 1,
      "id": "c64667e5",
      "metadata": {
        "colab": {
          "base_uri": "https://localhost:8080/"
        },
        "id": "c64667e5",
        "outputId": "12b9ce43-1f2f-499f-c216-c31f131af835"
      },
      "outputs": [
        {
          "output_type": "stream",
          "name": "stdout",
          "text": [
            "Collecting pyspark\n",
            "  Downloading pyspark-3.4.1.tar.gz (310.8 MB)\n",
            "\u001b[2K     \u001b[90m━━━━━━━━━━━━━━━━━━━━━━━━━━━━━━━━━━━━━━━\u001b[0m \u001b[32m310.8/310.8 MB\u001b[0m \u001b[31m2.6 MB/s\u001b[0m eta \u001b[36m0:00:00\u001b[0m\n",
            "\u001b[?25h  Preparing metadata (setup.py) ... \u001b[?25l\u001b[?25hdone\n",
            "Requirement already satisfied: py4j==0.10.9.7 in /usr/local/lib/python3.10/dist-packages (from pyspark) (0.10.9.7)\n",
            "Building wheels for collected packages: pyspark\n",
            "  Building wheel for pyspark (setup.py) ... \u001b[?25l\u001b[?25hdone\n",
            "  Created wheel for pyspark: filename=pyspark-3.4.1-py2.py3-none-any.whl size=311285398 sha256=128fba19792597614048bbb812dd55a64df9effd3ecc51f06063ead772bb6404\n",
            "  Stored in directory: /root/.cache/pip/wheels/0d/77/a3/ff2f74cc9ab41f8f594dabf0579c2a7c6de920d584206e0834\n",
            "Successfully built pyspark\n",
            "Installing collected packages: pyspark\n",
            "Successfully installed pyspark-3.4.1\n"
          ]
        }
      ],
      "source": [
        "#Install required packages\n",
        "\n",
        "!pip install pyspark"
      ]
    },
    {
      "cell_type": "code",
      "execution_count": 2,
      "id": "df343e1a",
      "metadata": {
        "id": "df343e1a"
      },
      "outputs": [],
      "source": [
        "#import libraries\n",
        "\n",
        "import pandas as pd\n",
        "\n",
        "from pyspark.sql import SparkSession\n",
        "\n",
        "from pyspark.sql import *"
      ]
    },
    {
      "cell_type": "code",
      "source": [
        "#Start Spark Session\n",
        "\n",
        "spark = SparkSession.builder.getOrCreate()"
      ],
      "metadata": {
        "id": "Kvmw8nd-o-Nd"
      },
      "id": "Kvmw8nd-o-Nd",
      "execution_count": 3,
      "outputs": []
    },
    {
      "cell_type": "markdown",
      "source": [
        "# Download Dataset"
      ],
      "metadata": {
        "id": "skiytzvvt9r8"
      },
      "id": "skiytzvvt9r8"
    },
    {
      "cell_type": "code",
      "source": [
        "!git clone https://github.com/kundigagandeep/IPL-Auction.git"
      ],
      "metadata": {
        "colab": {
          "base_uri": "https://localhost:8080/"
        },
        "id": "Z2BXGB-kuCK6",
        "outputId": "fe585fa5-3d6c-4120-c1ff-da6d9318071f"
      },
      "id": "Z2BXGB-kuCK6",
      "execution_count": 6,
      "outputs": [
        {
          "output_type": "stream",
          "name": "stdout",
          "text": [
            "Cloning into 'IPL-Auction'...\n",
            "remote: Enumerating objects: 9, done.\u001b[K\n",
            "remote: Counting objects: 100% (9/9), done.\u001b[K\n",
            "remote: Compressing objects: 100% (8/8), done.\u001b[K\n",
            "remote: Total 9 (delta 1), reused 0 (delta 0), pack-reused 0\u001b[K\n",
            "Receiving objects: 100% (9/9), 22.95 KiB | 5.74 MiB/s, done.\n",
            "Resolving deltas: 100% (1/1), done.\n"
          ]
        }
      ]
    },
    {
      "cell_type": "markdown",
      "source": [
        "# Open and view dataset"
      ],
      "metadata": {
        "id": "wi_jJg0gpIok"
      },
      "id": "wi_jJg0gpIok"
    },
    {
      "cell_type": "code",
      "source": [
        "schema = StructType() \\\n",
        "        .add(\"c0_\",IntegerType(),True) \\\n",
        "        .add(\"Player\", StringType(),True) \\\n",
        "        .add(\"Base Price\",StringType(), True) \\\n",
        "        .add(\"TYPE\",StringType(),True) \\\n",
        "        .add(\"COST IN ₹ (CR.)\",FloatType(),True) \\\n",
        "        .add(\"Cost IN $ (000)\",FloatType(),True) \\\n",
        "        .add(\"2021 Squad\", StringType(),True) \\\n",
        "        .add(\"Team\", StringType(),True)"
      ],
      "metadata": {
        "id": "HW_bFy30p9BA",
        "outputId": "e7e56e96-5982-473e-b25d-0b8bdb21a3e9",
        "colab": {
          "base_uri": "https://localhost:8080/",
          "height": 235
        }
      },
      "id": "HW_bFy30p9BA",
      "execution_count": 7,
      "outputs": [
        {
          "output_type": "error",
          "ename": "NameError",
          "evalue": "ignored",
          "traceback": [
            "\u001b[0;31m---------------------------------------------------------------------------\u001b[0m",
            "\u001b[0;31mNameError\u001b[0m                                 Traceback (most recent call last)",
            "\u001b[0;32m<ipython-input-7-01fb28f2e1de>\u001b[0m in \u001b[0;36m<cell line: 1>\u001b[0;34m()\u001b[0m\n\u001b[0;32m----> 1\u001b[0;31m \u001b[0mschema\u001b[0m \u001b[0;34m=\u001b[0m \u001b[0mStructType\u001b[0m\u001b[0;34m(\u001b[0m\u001b[0;34m)\u001b[0m\u001b[0;31m \u001b[0m\u001b[0;31m\\\u001b[0m\u001b[0;34m\u001b[0m\u001b[0;34m\u001b[0m\u001b[0m\n\u001b[0m\u001b[1;32m      2\u001b[0m         \u001b[0;34m.\u001b[0m\u001b[0madd\u001b[0m\u001b[0;34m(\u001b[0m\u001b[0;34m\"c0_\"\u001b[0m\u001b[0;34m,\u001b[0m\u001b[0mIntegerType\u001b[0m\u001b[0;34m(\u001b[0m\u001b[0;34m)\u001b[0m\u001b[0;34m,\u001b[0m\u001b[0;32mTrue\u001b[0m\u001b[0;34m)\u001b[0m\u001b[0;31m \u001b[0m\u001b[0;31m\\\u001b[0m\u001b[0;34m\u001b[0m\u001b[0;34m\u001b[0m\u001b[0m\n\u001b[1;32m      3\u001b[0m         \u001b[0;34m.\u001b[0m\u001b[0madd\u001b[0m\u001b[0;34m(\u001b[0m\u001b[0;34m\"Player\"\u001b[0m\u001b[0;34m,\u001b[0m \u001b[0mStringType\u001b[0m\u001b[0;34m(\u001b[0m\u001b[0;34m)\u001b[0m\u001b[0;34m,\u001b[0m\u001b[0;32mTrue\u001b[0m\u001b[0;34m)\u001b[0m\u001b[0;31m \u001b[0m\u001b[0;31m\\\u001b[0m\u001b[0;34m\u001b[0m\u001b[0;34m\u001b[0m\u001b[0m\n\u001b[1;32m      4\u001b[0m         \u001b[0;34m.\u001b[0m\u001b[0madd\u001b[0m\u001b[0;34m(\u001b[0m\u001b[0;34m\"Base Price\"\u001b[0m\u001b[0;34m,\u001b[0m\u001b[0mStringType\u001b[0m\u001b[0;34m(\u001b[0m\u001b[0;34m)\u001b[0m\u001b[0;34m,\u001b[0m \u001b[0;32mTrue\u001b[0m\u001b[0;34m)\u001b[0m\u001b[0;31m \u001b[0m\u001b[0;31m\\\u001b[0m\u001b[0;34m\u001b[0m\u001b[0;34m\u001b[0m\u001b[0m\n\u001b[1;32m      5\u001b[0m         \u001b[0;34m.\u001b[0m\u001b[0madd\u001b[0m\u001b[0;34m(\u001b[0m\u001b[0;34m\"TYPE\"\u001b[0m\u001b[0;34m,\u001b[0m\u001b[0mStringType\u001b[0m\u001b[0;34m(\u001b[0m\u001b[0;34m)\u001b[0m\u001b[0;34m,\u001b[0m\u001b[0;32mTrue\u001b[0m\u001b[0;34m)\u001b[0m\u001b[0;31m \u001b[0m\u001b[0;31m\\\u001b[0m\u001b[0;34m\u001b[0m\u001b[0;34m\u001b[0m\u001b[0m\n",
            "\u001b[0;31mNameError\u001b[0m: name 'StructType' is not defined"
          ]
        }
      ]
    },
    {
      "cell_type": "code",
      "execution_count": 8,
      "id": "61c85f7c",
      "metadata": {
        "id": "61c85f7c"
      },
      "outputs": [],
      "source": [
        "df = spark.read.option(\"header\", True).option('inferSchema',True).csv(\"/content/IPL-Auction/ipl_2022_dataset.csv\")"
      ]
    },
    {
      "cell_type": "code",
      "source": [
        "df.show(5)"
      ],
      "metadata": {
        "colab": {
          "base_uri": "https://localhost:8080/"
        },
        "id": "WPdL1sj8peSz",
        "outputId": "8e510c8a-3461-4459-b672-47dd2a500c7d"
      },
      "id": "WPdL1sj8peSz",
      "execution_count": 9,
      "outputs": [
        {
          "output_type": "stream",
          "name": "stdout",
          "text": [
            "+---+---------------+----------+-----------+---------------+---------------+----------+--------------+\n",
            "|_c0|         Player|Base Price|       TYPE|COST IN ₹ (CR.)|Cost IN $ (000)|2021 Squad|          Team|\n",
            "+---+---------------+----------+-----------+---------------+---------------+----------+--------------+\n",
            "|  0|    Rashid Khan|Draft Pick|     BOWLER|           15.0|         1950.0|       SRH|Gujarat Titans|\n",
            "|  1|  Hardik Pandya|Draft Pick|ALL-ROUNDER|           15.0|         1950.0|        MI|Gujarat Titans|\n",
            "|  2|Lockie Ferguson|      2 Cr|     BOWLER|           10.0|         1300.0|       KKR|Gujarat Titans|\n",
            "|  3|  Rahul Tewatia|   40 Lakh|ALL-ROUNDER|            9.0|         1170.0|        RR|Gujarat Titans|\n",
            "|  4|   Shubman Gill|Draft Pick|     BATTER|            8.0|         1040.0|       KKR|Gujarat Titans|\n",
            "+---+---------------+----------+-----------+---------------+---------------+----------+--------------+\n",
            "only showing top 5 rows\n",
            "\n"
          ]
        }
      ]
    },
    {
      "cell_type": "code",
      "source": [
        "df.printSchema()"
      ],
      "metadata": {
        "colab": {
          "base_uri": "https://localhost:8080/"
        },
        "id": "hdI1bUU7pltr",
        "outputId": "2d2c8828-8de5-4674-833e-bd4c06d50bac"
      },
      "id": "hdI1bUU7pltr",
      "execution_count": 10,
      "outputs": [
        {
          "output_type": "stream",
          "name": "stdout",
          "text": [
            "root\n",
            " |-- _c0: integer (nullable = true)\n",
            " |-- Player: string (nullable = true)\n",
            " |-- Base Price: string (nullable = true)\n",
            " |-- TYPE: string (nullable = true)\n",
            " |-- COST IN ₹ (CR.): double (nullable = true)\n",
            " |-- Cost IN $ (000): double (nullable = true)\n",
            " |-- 2021 Squad: string (nullable = true)\n",
            " |-- Team: string (nullable = true)\n",
            "\n"
          ]
        }
      ]
    },
    {
      "cell_type": "markdown",
      "source": [
        "# Data Exploration"
      ],
      "metadata": {
        "id": "Zsq4MT1lv0U_"
      },
      "id": "Zsq4MT1lv0U_"
    },
    {
      "cell_type": "code",
      "source": [
        "#Total number of rows and columns\n",
        "print('Rows: ', df.count())\n",
        "\n",
        "print('Columns:', len(df.columns))"
      ],
      "metadata": {
        "colab": {
          "base_uri": "https://localhost:8080/"
        },
        "id": "uYu198-Xv4fd",
        "outputId": "54ebcb9f-b25a-45ad-b7f5-8e16b809a7d5"
      },
      "id": "uYu198-Xv4fd",
      "execution_count": null,
      "outputs": [
        {
          "output_type": "stream",
          "name": "stdout",
          "text": [
            "Rows:  633\n",
            "Columns: 8\n"
          ]
        }
      ]
    },
    {
      "cell_type": "code",
      "source": [
        "print(df.count())\n",
        "print (len(df.columns))"
      ],
      "metadata": {
        "id": "a359lvh5sibT",
        "outputId": "77a52d51-2a4c-41ba-afd2-308d23a5f861",
        "colab": {
          "base_uri": "https://localhost:8080/"
        }
      },
      "id": "a359lvh5sibT",
      "execution_count": 16,
      "outputs": [
        {
          "output_type": "stream",
          "name": "stdout",
          "text": [
            "633\n",
            "8\n"
          ]
        }
      ]
    },
    {
      "cell_type": "code",
      "source": [
        "#Data Types\n",
        "\n",
        "df.printSchema()"
      ],
      "metadata": {
        "colab": {
          "base_uri": "https://localhost:8080/"
        },
        "id": "p-cylpiqxngg",
        "outputId": "f713875d-6649-4dda-a2ac-6a7e9d1ceb0a"
      },
      "id": "p-cylpiqxngg",
      "execution_count": 17,
      "outputs": [
        {
          "output_type": "stream",
          "name": "stdout",
          "text": [
            "root\n",
            " |-- _c0: integer (nullable = true)\n",
            " |-- Player: string (nullable = true)\n",
            " |-- Base Price: string (nullable = true)\n",
            " |-- TYPE: string (nullable = true)\n",
            " |-- COST IN ₹ (CR.): double (nullable = true)\n",
            " |-- Cost IN $ (000): double (nullable = true)\n",
            " |-- 2021 Squad: string (nullable = true)\n",
            " |-- Team: string (nullable = true)\n",
            "\n"
          ]
        }
      ]
    },
    {
      "cell_type": "code",
      "source": [
        "#Unique Values in 'Base Price' Column\n",
        "\n",
        "df.select('Base Price').distinct().collect()"
      ],
      "metadata": {
        "colab": {
          "base_uri": "https://localhost:8080/"
        },
        "id": "Ei_GBHQHwa53",
        "outputId": "c0e8db7f-9f00-4be4-dcb4-1b318aee4acf"
      },
      "id": "Ei_GBHQHwa53",
      "execution_count": 19,
      "outputs": [
        {
          "output_type": "execute_result",
          "data": {
            "text/plain": [
              "[Row(Base Price='20 Lakh'),\n",
              " Row(Base Price='2 Cr'),\n",
              " Row(Base Price='Draft Pick'),\n",
              " Row(Base Price='40 Lakh'),\n",
              " Row(Base Price='30 Lakh'),\n",
              " Row(Base Price='1 Cr'),\n",
              " Row(Base Price='50 Lakh'),\n",
              " Row(Base Price='1.5 Cr'),\n",
              " Row(Base Price='75 Lakh'),\n",
              " Row(Base Price='Retained')]"
            ]
          },
          "metadata": {},
          "execution_count": 19
        }
      ]
    },
    {
      "cell_type": "code",
      "source": [
        "#Distribution of values inside column 'Base Price'\n",
        "\n",
        "df.groupBy('Base Price').count().show()"
      ],
      "metadata": {
        "colab": {
          "base_uri": "https://localhost:8080/"
        },
        "id": "Nk9QV-acwy4X",
        "outputId": "c2ca1e18-01a7-41a3-fe05-52c4de911d06"
      },
      "id": "Nk9QV-acwy4X",
      "execution_count": 21,
      "outputs": [
        {
          "output_type": "stream",
          "name": "stdout",
          "text": [
            "+----------+-----+\n",
            "|Base Price|count|\n",
            "+----------+-----+\n",
            "|   20 Lakh|  344|\n",
            "|      2 Cr|   48|\n",
            "|Draft Pick|    6|\n",
            "|   40 Lakh|   16|\n",
            "|   30 Lakh|    9|\n",
            "|      1 Cr|   33|\n",
            "|   50 Lakh|  104|\n",
            "|    1.5 Cr|   20|\n",
            "|   75 Lakh|   26|\n",
            "|  Retained|   27|\n",
            "+----------+-----+\n",
            "\n"
          ]
        }
      ]
    },
    {
      "cell_type": "code",
      "source": [
        "#Unique Values in 'TYPE' Column\n",
        "\n"
      ],
      "metadata": {
        "id": "DF0How6KxC_s"
      },
      "id": "DF0How6KxC_s",
      "execution_count": null,
      "outputs": []
    },
    {
      "cell_type": "code",
      "source": [
        "#Distribution of values inside column 'Base Price'\n",
        "\n"
      ],
      "metadata": {
        "id": "g5bYVYfoxDUi"
      },
      "id": "g5bYVYfoxDUi",
      "execution_count": null,
      "outputs": []
    },
    {
      "cell_type": "markdown",
      "source": [
        "# Questions to Answer\n",
        "1. Top 3 batsman who got paid the most? <br>\n",
        "2. Top 5 bowlers who got paid the most? <br>\n",
        "3. Highest paid all-rounders? <br>\n",
        "4. Average pay for Batsman, Bowler, All-Rounder, Wicket-Keeper? <br>\n",
        "5. List of Retained players with Salary? <br>"
      ],
      "metadata": {
        "id": "IWGyLyFvvFKx"
      },
      "id": "IWGyLyFvvFKx"
    },
    {
      "cell_type": "markdown",
      "source": [
        "# Data Transformation"
      ],
      "metadata": {
        "id": "Od_sgvxSu6xO"
      },
      "id": "Od_sgvxSu6xO"
    },
    {
      "cell_type": "code",
      "source": [
        "df.show(5)"
      ],
      "metadata": {
        "colab": {
          "base_uri": "https://localhost:8080/"
        },
        "id": "DMEw_Dv7rZz-",
        "outputId": "dd9daba5-ac6a-4965-d966-43aa7b65cd2b"
      },
      "id": "DMEw_Dv7rZz-",
      "execution_count": 22,
      "outputs": [
        {
          "output_type": "stream",
          "name": "stdout",
          "text": [
            "+---+---------------+----------+-----------+---------------+---------------+----------+--------------+\n",
            "|_c0|         Player|Base Price|       TYPE|COST IN ₹ (CR.)|Cost IN $ (000)|2021 Squad|          Team|\n",
            "+---+---------------+----------+-----------+---------------+---------------+----------+--------------+\n",
            "|  0|    Rashid Khan|Draft Pick|     BOWLER|           15.0|         1950.0|       SRH|Gujarat Titans|\n",
            "|  1|  Hardik Pandya|Draft Pick|ALL-ROUNDER|           15.0|         1950.0|        MI|Gujarat Titans|\n",
            "|  2|Lockie Ferguson|      2 Cr|     BOWLER|           10.0|         1300.0|       KKR|Gujarat Titans|\n",
            "|  3|  Rahul Tewatia|   40 Lakh|ALL-ROUNDER|            9.0|         1170.0|        RR|Gujarat Titans|\n",
            "|  4|   Shubman Gill|Draft Pick|     BATTER|            8.0|         1040.0|       KKR|Gujarat Titans|\n",
            "+---+---------------+----------+-----------+---------------+---------------+----------+--------------+\n",
            "only showing top 5 rows\n",
            "\n"
          ]
        }
      ]
    },
    {
      "cell_type": "code",
      "execution_count": 23,
      "id": "435a8820",
      "metadata": {
        "id": "435a8820"
      },
      "outputs": [],
      "source": [
        "#Rename Column\n",
        "\n",
        "df2 = df.withColumnRenamed(\"Player\",\"player\")\\\n",
        "      .withColumnRenamed(\"Base Price\",\"base_price\")\\\n",
        "      .withColumnRenamed(\"Type\",\"type\") \\\n",
        "      .withColumnRenamed(\"COST IN ₹ (CR.)\",\"cost_inr\") \\\n",
        "      .withColumnRenamed(\"Cost IN $ (000)\",\"cost_usd\") \\\n",
        "      .withColumnRenamed(\"2021 Squad\",\"2021_team\") \\\n",
        "      .withColumnRenamed(\"Team\",\"2022_team\")"
      ]
    },
    {
      "cell_type": "code",
      "source": [
        "df2.show(5)"
      ],
      "metadata": {
        "colab": {
          "base_uri": "https://localhost:8080/"
        },
        "id": "xaGEwfZ4risk",
        "outputId": "8eec6b7a-56b7-4695-9ef3-b96315317e45"
      },
      "id": "xaGEwfZ4risk",
      "execution_count": 24,
      "outputs": [
        {
          "output_type": "stream",
          "name": "stdout",
          "text": [
            "+---+---------------+----------+-----------+--------+--------+---------+--------------+\n",
            "|_c0|         player|base_price|       type|cost_inr|cost_usd|2021_team|     2022_team|\n",
            "+---+---------------+----------+-----------+--------+--------+---------+--------------+\n",
            "|  0|    Rashid Khan|Draft Pick|     BOWLER|    15.0|  1950.0|      SRH|Gujarat Titans|\n",
            "|  1|  Hardik Pandya|Draft Pick|ALL-ROUNDER|    15.0|  1950.0|       MI|Gujarat Titans|\n",
            "|  2|Lockie Ferguson|      2 Cr|     BOWLER|    10.0|  1300.0|      KKR|Gujarat Titans|\n",
            "|  3|  Rahul Tewatia|   40 Lakh|ALL-ROUNDER|     9.0|  1170.0|       RR|Gujarat Titans|\n",
            "|  4|   Shubman Gill|Draft Pick|     BATTER|     8.0|  1040.0|      KKR|Gujarat Titans|\n",
            "+---+---------------+----------+-----------+--------+--------+---------+--------------+\n",
            "only showing top 5 rows\n",
            "\n"
          ]
        }
      ]
    },
    {
      "cell_type": "code",
      "execution_count": 25,
      "id": "07c7e186",
      "metadata": {
        "id": "07c7e186"
      },
      "outputs": [],
      "source": [
        "#Dropping USD Column\n",
        "\n",
        "df3 = df2.drop('cost_usd')"
      ]
    },
    {
      "cell_type": "code",
      "execution_count": 27,
      "id": "f526207d",
      "metadata": {
        "colab": {
          "base_uri": "https://localhost:8080/"
        },
        "id": "f526207d",
        "outputId": "520c0b16-8304-499a-843e-48c1431efbd8"
      },
      "outputs": [
        {
          "output_type": "stream",
          "name": "stdout",
          "text": [
            "+---+-------------------+----------+-----------+--------+---------+--------------+\n",
            "|_c0|             player|base_price|       type|cost_inr|2021_team|     2022_team|\n",
            "+---+-------------------+----------+-----------+--------+---------+--------------+\n",
            "|  0|        Rashid Khan|Draft Pick|     BOWLER|    15.0|      SRH|Gujarat Titans|\n",
            "|  1|      Hardik Pandya|Draft Pick|ALL-ROUNDER|    15.0|       MI|Gujarat Titans|\n",
            "|  2|    Lockie Ferguson|      2 Cr|     BOWLER|    10.0|      KKR|Gujarat Titans|\n",
            "|  3|      Rahul Tewatia|   40 Lakh|ALL-ROUNDER|     9.0|       RR|Gujarat Titans|\n",
            "|  4|       Shubman Gill|Draft Pick|     BATTER|     8.0|      KKR|Gujarat Titans|\n",
            "|  5|     Mohammad Shami|      2 Cr|     BOWLER|    6.25|     PBKS|Gujarat Titans|\n",
            "|  6|         Yash Dayal|   20 Lakh|     BOWLER|     3.2|     null|Gujarat Titans|\n",
            "|  7|       David Miller|      1 Cr|     BATTER|     3.0|       RR|Gujarat Titans|\n",
            "|  8|     R. Sai Kishore|   20 Lakh|     BOWLER|     3.0|      CSK|Gujarat Titans|\n",
            "|  9|Abhinav Sadarangani|   20 Lakh|     BATTER|     2.6|     null|Gujarat Titans|\n",
            "+---+-------------------+----------+-----------+--------+---------+--------------+\n",
            "only showing top 10 rows\n",
            "\n"
          ]
        }
      ],
      "source": [
        "#Check updated Dataframe\n",
        "\n",
        "df3.show(10)"
      ]
    },
    {
      "cell_type": "markdown",
      "source": [
        "# Question 1 - Name top 3 batsman who got paid the most?"
      ],
      "metadata": {
        "id": "9FCe2_ofzhNd"
      },
      "id": "9FCe2_ofzhNd"
    },
    {
      "cell_type": "code",
      "source": [
        "df3.select('player','cost_inr').where(df3.type=='BATTER').orderBy('cost_inr', ascending=False).show(3)"
      ],
      "metadata": {
        "colab": {
          "base_uri": "https://localhost:8080/"
        },
        "id": "k2WRKiPesDNT",
        "outputId": "994606ac-d6a0-4f92-e31b-8d816b95966f"
      },
      "id": "k2WRKiPesDNT",
      "execution_count": 28,
      "outputs": [
        {
          "output_type": "stream",
          "name": "stdout",
          "text": [
            "+---------------+--------+\n",
            "|         player|cost_inr|\n",
            "+---------------+--------+\n",
            "|   Rohit Sharma|    16.0|\n",
            "|    Virat Kohli|    15.0|\n",
            "|Kane Williamson|    14.0|\n",
            "+---------------+--------+\n",
            "only showing top 3 rows\n",
            "\n"
          ]
        }
      ]
    },
    {
      "cell_type": "code",
      "source": [
        "df3.createOrReplaceTempView('ipl')"
      ],
      "metadata": {
        "id": "sNtVlNmTsqip"
      },
      "id": "sNtVlNmTsqip",
      "execution_count": 31,
      "outputs": []
    },
    {
      "cell_type": "code",
      "execution_count": 32,
      "id": "1dde3816",
      "metadata": {
        "colab": {
          "base_uri": "https://localhost:8080/"
        },
        "id": "1dde3816",
        "outputId": "92aeb74c-2eb0-45a9-a22b-f709a38077a0"
      },
      "outputs": [
        {
          "output_type": "stream",
          "name": "stdout",
          "text": [
            "+---------------+--------+\n",
            "|         player|cost_inr|\n",
            "+---------------+--------+\n",
            "|   Rohit Sharma|    16.0|\n",
            "|    Virat Kohli|    15.0|\n",
            "|Kane Williamson|    14.0|\n",
            "+---------------+--------+\n",
            "\n"
          ]
        }
      ],
      "source": [
        "spark.sql(\"\"\"SELECT player, cost_inr FROM ipl WHERE type = 'BATTER' ORDER BY 2 DESC LIMIT 3\"\"\").show()"
      ]
    },
    {
      "cell_type": "markdown",
      "source": [
        "# Question 2 - Name top 5 bowlers who get paid the most?"
      ],
      "metadata": {
        "id": "paWiMi-70Q63"
      },
      "id": "paWiMi-70Q63"
    },
    {
      "cell_type": "code",
      "source": [
        "df3.select('player','cost_inr').filter(df3.type=='BOWLER').orderBy('cost_inr',ascending=False).show(5)"
      ],
      "metadata": {
        "colab": {
          "base_uri": "https://localhost:8080/"
        },
        "id": "LgNoBHdBtFlA",
        "outputId": "8f4cfcfa-2fc8-4713-cdc4-ad95f9d04db9"
      },
      "id": "LgNoBHdBtFlA",
      "execution_count": 33,
      "outputs": [
        {
          "output_type": "stream",
          "name": "stdout",
          "text": [
            "+---------------+--------+\n",
            "|         player|cost_inr|\n",
            "+---------------+--------+\n",
            "|    Rashid Khan|    15.0|\n",
            "|  Deepak Chahar|    14.0|\n",
            "| Jasprit Bumrah|    12.0|\n",
            "| Shardul Thakur|   10.75|\n",
            "|Lockie Ferguson|    10.0|\n",
            "+---------------+--------+\n",
            "only showing top 5 rows\n",
            "\n"
          ]
        }
      ]
    },
    {
      "cell_type": "code",
      "execution_count": 34,
      "id": "bedef3a0",
      "metadata": {
        "id": "bedef3a0",
        "outputId": "ce769381-9982-4f62-f2b9-42c493031952",
        "colab": {
          "base_uri": "https://localhost:8080/"
        }
      },
      "outputs": [
        {
          "output_type": "stream",
          "name": "stdout",
          "text": [
            "+--------------+--------+\n",
            "|        player|cost_inr|\n",
            "+--------------+--------+\n",
            "|   Rashid Khan|    15.0|\n",
            "| Deepak Chahar|    14.0|\n",
            "|Jasprit Bumrah|    12.0|\n",
            "|Shardul Thakur|   10.75|\n",
            "|    Avesh Khan|    10.0|\n",
            "+--------------+--------+\n",
            "\n"
          ]
        }
      ],
      "source": [
        "spark.sql(\"\"\"SELECT player, cost_inr FROM ipl WHERE type = 'BOWLER' ORDER By 2 DESC LIMIT 5 \"\"\").show()"
      ]
    },
    {
      "cell_type": "markdown",
      "source": [
        "# Practice Question 1- Name top 5 All-Rounders who get paid the most?"
      ],
      "metadata": {
        "id": "XeiGsNLB0r0m"
      },
      "id": "XeiGsNLB0r0m"
    },
    {
      "cell_type": "code",
      "source": [
        "df3.select('player','cost_inr').filter(df3.type=='ALL-ROUNDER').orderBy('cost_inr',ascending=False).show(5)"
      ],
      "metadata": {
        "id": "5JoXwcpt02my",
        "outputId": "3bc3d8e0-5655-4159-e019-037078487eaf",
        "colab": {
          "base_uri": "https://localhost:8080/"
        }
      },
      "id": "5JoXwcpt02my",
      "execution_count": 36,
      "outputs": [
        {
          "output_type": "stream",
          "name": "stdout",
          "text": [
            "+----------------+--------+\n",
            "|          player|cost_inr|\n",
            "+----------------+--------+\n",
            "| Ravindra Jadeja|    16.0|\n",
            "|   Hardik Pandya|    15.0|\n",
            "|   Andre Russell|    12.0|\n",
            "|Liam Livingstone|    11.5|\n",
            "|   Glenn Maxwell|    11.0|\n",
            "+----------------+--------+\n",
            "only showing top 5 rows\n",
            "\n"
          ]
        }
      ]
    },
    {
      "cell_type": "markdown",
      "source": [
        "# Question 3 - Name 5 lowest paid wicket-keeper?"
      ],
      "metadata": {
        "id": "zLm344a109uJ"
      },
      "id": "zLm344a109uJ"
    },
    {
      "cell_type": "code",
      "source": [
        "df3.select('player', 'cost_inr').filter((df3.type=='WICKETKEEPER')&(df3.cost_inr.isNotNull())).orderBy('cost_inr',ascending=True).show(5)"
      ],
      "metadata": {
        "colab": {
          "base_uri": "https://localhost:8080/"
        },
        "id": "f-rqWMbBtx2z",
        "outputId": "c0cdf757-8d11-4e5a-9b5c-7a6cadb46580"
      },
      "id": "f-rqWMbBtx2z",
      "execution_count": 37,
      "outputs": [
        {
          "output_type": "stream",
          "name": "stdout",
          "text": [
            "+---------------+--------+\n",
            "|         player|cost_inr|\n",
            "+---------------+--------+\n",
            "|  Jitesh Sharma|     0.2|\n",
            "|    Aryan Juyal|     0.2|\n",
            "|  N. Jagadeesan|     0.2|\n",
            "|Luvnith Sisodia|     0.2|\n",
            "| Baba Indrajith|     0.2|\n",
            "+---------------+--------+\n",
            "only showing top 5 rows\n",
            "\n"
          ]
        }
      ]
    },
    {
      "cell_type": "code",
      "source": [
        "spark.sql(\"\"\" SELECT player, cost_inr FROM ipl WHERE type = 'WICKETKEEPER' AND cost_inr is not null ORDER BY 2 LIMIT 5 \"\"\").show()"
      ],
      "metadata": {
        "colab": {
          "base_uri": "https://localhost:8080/"
        },
        "id": "YJA3WPWf1Tio",
        "outputId": "c29a6187-e4f2-4205-c2f7-17d074e5a73d"
      },
      "id": "YJA3WPWf1Tio",
      "execution_count": 38,
      "outputs": [
        {
          "output_type": "stream",
          "name": "stdout",
          "text": [
            "+---------------+--------+\n",
            "|         player|cost_inr|\n",
            "+---------------+--------+\n",
            "|    Dhruv Jurel|     0.2|\n",
            "|  Jitesh Sharma|     0.2|\n",
            "|  N. Jagadeesan|     0.2|\n",
            "|    Aryan Juyal|     0.2|\n",
            "|Luvnith Sisodia|     0.2|\n",
            "+---------------+--------+\n",
            "\n"
          ]
        }
      ]
    },
    {
      "cell_type": "markdown",
      "source": [
        "# Question 4 - What is the Average pay for Batsman, Bowler, All-Rounder, Wicket-Keeper?"
      ],
      "metadata": {
        "id": "2wRftceK2J3U"
      },
      "id": "2wRftceK2J3U"
    },
    {
      "cell_type": "code",
      "source": [
        "from pyspark.sql import functions as F\n",
        "\n",
        "df3.groupBy('type').agg(F.round(F.mean('cost_inr'),2).alias('average_price')).show()"
      ],
      "metadata": {
        "colab": {
          "base_uri": "https://localhost:8080/"
        },
        "id": "-hIYLdaTuomE",
        "outputId": "15066510-cf58-4d6f-924d-a76e4660a018"
      },
      "id": "-hIYLdaTuomE",
      "execution_count": 39,
      "outputs": [
        {
          "output_type": "stream",
          "name": "stdout",
          "text": [
            "+------------+-------------+\n",
            "|        type|average_price|\n",
            "+------------+-------------+\n",
            "|WICKETKEEPER|         5.09|\n",
            "|      BOWLER|         3.07|\n",
            "| ALL-ROUNDER|         3.61|\n",
            "|      BATTER|         4.11|\n",
            "+------------+-------------+\n",
            "\n"
          ]
        }
      ]
    },
    {
      "cell_type": "code",
      "execution_count": 40,
      "id": "e2df1c8d",
      "metadata": {
        "colab": {
          "base_uri": "https://localhost:8080/"
        },
        "id": "e2df1c8d",
        "outputId": "7bec37a0-891f-4c02-f48b-89d70e763851"
      },
      "outputs": [
        {
          "output_type": "stream",
          "name": "stdout",
          "text": [
            "+------------+-------------+\n",
            "|        type|average_price|\n",
            "+------------+-------------+\n",
            "|WICKETKEEPER|         5.09|\n",
            "|      BATTER|         4.11|\n",
            "| ALL-ROUNDER|         3.61|\n",
            "|      BOWLER|         3.07|\n",
            "+------------+-------------+\n",
            "\n"
          ]
        }
      ],
      "source": [
        "spark.sql(\"\"\"SELECT type, round(avg(cost_inr),2) average_price FROM ipl GROUP BY 1 ORDER BY 2 DESC\"\"\").show()"
      ]
    },
    {
      "cell_type": "markdown",
      "source": [
        "# Question 5 - List of Retained players with team name and salary?"
      ],
      "metadata": {
        "id": "vxw-gNLI2Wg7"
      },
      "id": "vxw-gNLI2Wg7"
    },
    {
      "cell_type": "code",
      "source": [
        "df3.select('player','2021_team','cost_inr').where(df3.base_price=='Retained').orderBy('cost_inr',ascending=False).show(10)"
      ],
      "metadata": {
        "colab": {
          "base_uri": "https://localhost:8080/"
        },
        "id": "Vz5ns8WUvfIC",
        "outputId": "49e37332-9c8f-4bd9-e7bc-f869370b4a35"
      },
      "id": "Vz5ns8WUvfIC",
      "execution_count": 41,
      "outputs": [
        {
          "output_type": "stream",
          "name": "stdout",
          "text": [
            "+---------------+---------+--------+\n",
            "|         player|2021_team|cost_inr|\n",
            "+---------------+---------+--------+\n",
            "|Ravindra Jadeja|      CSK|    16.0|\n",
            "|   Rishabh Pant|       DC|    16.0|\n",
            "|   Rohit Sharma|       MI|    16.0|\n",
            "|    Virat Kohli|      RCB|    15.0|\n",
            "|   Sanju Samson|       RR|    14.0|\n",
            "|Kane Williamson|      SRH|    14.0|\n",
            "|       MS Dhoni|      CSK|    12.0|\n",
            "|  Andre Russell|      KKR|    12.0|\n",
            "| Mayank Agarwal|     PBKS|    12.0|\n",
            "| Jasprit Bumrah|       MI|    12.0|\n",
            "+---------------+---------+--------+\n",
            "only showing top 10 rows\n",
            "\n"
          ]
        }
      ]
    },
    {
      "cell_type": "code",
      "execution_count": 42,
      "id": "163d54cd",
      "metadata": {
        "id": "163d54cd",
        "outputId": "a142e9d2-0255-4523-e5a9-a409a99d42b9",
        "colab": {
          "base_uri": "https://localhost:8080/"
        }
      },
      "outputs": [
        {
          "output_type": "stream",
          "name": "stdout",
          "text": [
            "+---------------+--------+\n",
            "|         player|cost_inr|\n",
            "+---------------+--------+\n",
            "|Ravindra Jadeja|    16.0|\n",
            "|   Rishabh Pant|    16.0|\n",
            "|   Rohit Sharma|    16.0|\n",
            "|    Virat Kohli|    15.0|\n",
            "|   Sanju Samson|    14.0|\n",
            "+---------------+--------+\n",
            "\n"
          ]
        }
      ],
      "source": [
        "spark.sql(\"\"\"SELECT player, cost_inr FROM ipl WHERE base_price =\"Retained\" ORDER BY 2 DESC LIMIT 5 \"\"\").show()"
      ]
    },
    {
      "cell_type": "code",
      "source": [],
      "metadata": {
        "id": "8Wxvg_o9wHxO"
      },
      "id": "8Wxvg_o9wHxO",
      "execution_count": 42,
      "outputs": []
    }
  ],
  "metadata": {
    "kernelspec": {
      "display_name": "Python 3 (ipykernel)",
      "language": "python",
      "name": "python3"
    },
    "language_info": {
      "codemirror_mode": {
        "name": "ipython",
        "version": 3
      },
      "file_extension": ".py",
      "mimetype": "text/x-python",
      "name": "python",
      "nbconvert_exporter": "python",
      "pygments_lexer": "ipython3",
      "version": "3.9.7"
    },
    "colab": {
      "name": "IPL_Auction_PySpark_Practice.ipynb",
      "provenance": [],
      "include_colab_link": true
    }
  },
  "nbformat": 4,
  "nbformat_minor": 5
}